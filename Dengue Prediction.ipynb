{
 "cells": [
  {
   "cell_type": "markdown",
   "id": "c2dc5b54",
   "metadata": {},
   "source": [
    "<div class=\"alert alert-info\" style=\"background-color:#006a79; color:white; padding:0px 10px; border-radius:5px;\"><h2 style='margin:10px 5px'>Install Packages</h2>\n",
    "</div>"
   ]
  },
  {
   "cell_type": "code",
   "execution_count": 1,
   "id": "eab13dc2",
   "metadata": {},
   "outputs": [],
   "source": [
    "import os\n",
    "import pathlib\n",
    "import pandas as pd\n",
    "import numpy as np\n",
    "import datetime as dt\n",
    "from datetime import datetime\n",
    "import matplotlib.pyplot as plt\n",
    "import seaborn as sns\n",
    "import missingno as msno\n",
    "from collections import OrderedDict\n",
    "\n",
    "from IPython.display import display, Markdown, clear_output, HTML\n",
    "import ipywidgets as widgets\n",
    "from ipywidgets import interact, interactive\n",
    "\n",
    "import warnings\n",
    "warnings.filterwarnings('ignore')\n",
    "warnings.filterwarnings(action='ignore',category=DeprecationWarning)\n",
    "warnings.filterwarnings(action='ignore',category=FutureWarning)\n",
    "\n",
    "pd.set_option('display.max_columns', 1000)\n",
    "pd.options.display.float_format = '{:,.4f}'.format"
   ]
  },
  {
   "cell_type": "markdown",
   "id": "602a2852",
   "metadata": {},
   "source": [
    "<div class=\"alert alert-info\" style=\"background-color:#006a79; color:white; padding:0px 10px; border-radius:5px;\"><h2 style='margin:10px 5px'>Project Overview</h2>\n",
    "</div>"
   ]
  },
  {
   "cell_type": "markdown",
   "id": "81ac029e",
   "metadata": {},
   "source": [
    "<h2> Problem Description </h2>\n",
    "Our goal is to predict the <code>total_cases</code> label for each <code>city</code>, <code>year</code> and <code>weekofyear</code> in the datset. There are 2 cities, San Juan, <b>sj</b> and Iquitos, <b>iq</b>, with the data spanning from period of 2001 to 2021.\n",
    "\n",
    "\n",
    "<h2> List of Features </h2>\n",
    "We are provided the following information on a <code>year</code> & <code>weekofyear</code> timescale:\n",
    "\n",
    "1. <font size=\"3px\" face=\"Dosis\" color=\"\"><b>City & Date Indicators</b></font>\n",
    "    - <code>city</code>: City abbreviations : <b>sj</b> for San Juan and <b>iq</b> for Iquitos\n",
    "    - <code>week_start_date</code> : Date given in <b>yyyy-mm-dd</b> format\n",
    "2. <font size=\"3px\" face=\"Dosis\"><b>PERSIANN satellite precipitation measurements (0.25x0.25 degree scale)</b></font>\n",
    "    - <code>precipitation_amt_mm</code> : Total precipitation\n",
    "3. <font size=\"3px\" face=\"Dosis\"><b>NOAA's NCEP Climate Forecast System Reanalysis measurements (0.5x0.5 degree scale)</b></font>\n",
    "    - <code>reanalysis_sat_precip_amt_mm</code> : Total precipitation\n",
    "    - <code>reanalysis_dew_point_temp_k</code> : Mean dew point temperature\n",
    "    - <code>reanalysis_air_temp_k</code> : Mean air temperature\n",
    "    - <code>reanalysis_relative_humidity_percent</code> : Mean relative humidity\n",
    "    - <code>reanalysis_specific_humidity_g_per_kg</code> : Mean specific humidity\n",
    "    - <code>reanalysis_precip_amt_kg_per_m2</code> : Total precipitation\n",
    "    - <code>reanalysis_max_air_temp_k</code> : Maximum air temperature\n",
    "    - <code>reanalysis_min_air_temp_k</code> : Minimum air temperature\n",
    "    - <code>reanalysis_avg_temp_k</code> : Average air temperature\n",
    "    - <code>reanalysis_tdtr_k</code> : Diurnal temperature range\n",
    "3. <font size=\"3px\" face=\"Dosis\"><b>Satellite vegetation - Normalized difference vegetation index (NDVI) - NOAA's CDR Normalized Difference Vegetation Index (0.5x0.5 degree scale) measurements</b></font>\n",
    "    - <code>ndvi_se</code> : Pixel <b>southeast</b> of city centroid\n",
    "    - <code>ndvi_sw</code> : Pixel <b>southwest</b> of city centroid\n",
    "    - <code>ndvi_ne</code> : Pixel <b>northeast</b> of city centroid\n",
    "    - <code>ndvi_nw</code> : Pixel <b>northwest</b> of city centroid"
   ]
  },
  {
   "cell_type": "markdown",
   "id": "682c17e8",
   "metadata": {},
   "source": [
    "<div class=\"alert alert-info\" style=\"background-color:#006a79; color:white; padding:0px 10px; border-radius:5px;\"><h2 style='margin:10px 5px'>Import Data</h2>\n",
    "</div>"
   ]
  },
  {
   "cell_type": "markdown",
   "id": "843ba935",
   "metadata": {},
   "source": [
    "display(Markdown('<a id=\"top\"></a>'))\n",
    "sections = [\"Dengue\"]\n",
    "loading_section = ['Loading Data']\n",
    "analysis_summary_section = [\"Description\"]\n",
    "\n",
    "sub_sections = [\"Data Summary\", \"Missing Analysis\", \"Outlier Analysis\"]\n",
    "    \n",
    "accordions = OrderedDict()\n",
    "accordions[\"-= Loading =-\"] = widgets.Accordion(children=[widgets.Output() for section in loading_section])\n",
    "[accordions[\"-= Loading =-\"].set_title(i, section) for i, section in enumerate(loading_section)]\n",
    "\n",
    "accordions[\"Project Summary\"] = widgets.Accordion(children=[widgets.Output() for section in analysis_summary_section])\n",
    "[accordions[\"Project Summary\"].set_title(i, section) for i, section in enumerate(analysis_summary_section)]\n",
    "\n",
    "for section in sections:\n",
    "        accordions[section] = widgets.Accordion(children=[widgets.Output() for sub_section in sub_sections])\n",
    "        [accordions[section].set_title(i, sub_section) for i, sub_section in enumerate(sub_sections)]\n",
    "\n",
    "overview_sections = [\"Summary\", \"Feature Dependency\"]\n",
    "accordions[\"-= Summary =-\"] = widgets.Accordion(children=[widgets.Output() for section in overview_sections])\n",
    "[accordions[\"-= Summary =-\"].set_title(i, section) for i, section in enumerate(overview_sections)]\n",
    "\n",
    "tab_fields = widgets.Tab(children=[accordions[v] for v in accordions])\n",
    "[tab_fields.set_title(i, s) for i, s in enumerate(accordions.keys())];"
   ]
  },
  {
   "cell_type": "markdown",
   "id": "8b97da38",
   "metadata": {},
   "source": [
    "tab_fields"
   ]
  },
  {
   "cell_type": "code",
   "execution_count": 43,
   "id": "5c90d722",
   "metadata": {},
   "outputs": [],
   "source": [
    "def year_change(year):\n",
    "    if year == \"1990\":\n",
    "        return 2001\n",
    "    elif year == \"1991\":\n",
    "        return 2002\n",
    "    elif year == \"1992\" :\n",
    "        return 2003\n",
    "    elif year == \"1993\" :\n",
    "        return 2004\n",
    "    elif year == \"1994\":\n",
    "        return 2005\n",
    "    elif year == \"1995\":\n",
    "        return 2006\n",
    "    elif year == \"1996\":\n",
    "        return 2007\n",
    "    elif year == \"1997\":\n",
    "        return 2008\n",
    "    elif year == \"1998\":\n",
    "        return 2009\n",
    "    elif year == \"1999\":\n",
    "        return 2010\n",
    "    elif year == \"2000\":\n",
    "        return 2011\n",
    "    elif year == \"2001\":\n",
    "        return 2012\n",
    "    elif year == \"2002\":\n",
    "        return 2013\n",
    "    elif year == \"2003\":\n",
    "        return 2014\n",
    "    elif year == \"2004\":\n",
    "        return 2015\n",
    "    elif year == \"2005\":\n",
    "        return 2016\n",
    "    elif year == \"2006\":\n",
    "        return 2017\n",
    "    elif year == \"2007\":\n",
    "        return 2018\n",
    "    elif year == \"2008\":\n",
    "        return 2019\n",
    "    elif year == \"2009\":\n",
    "        return 2020\n",
    "    elif  \"2010\" in year:\n",
    "        return 2021\n",
    "    else:\n",
    "        return \"year invalid...\"\n",
    "    \n",
    "REPLACE_YEAR = {\n",
    "    \"1990\" : \"2001\",\n",
    "    \"1991\" : \"2002\",\n",
    "    \"1992\" : \"2003\",\n",
    "    \"1993\" : \"2004\",\n",
    "    \"1994\" : \"2005\",\n",
    "    \"1995\" : \"2006\",\n",
    "    \"1996\" : \"2007\",\n",
    "    \"1997\" : \"2008\",\n",
    "    \"1998\" : \"2009\",\n",
    "    \"1999\" : \"2010\",\n",
    "    \"2000\" : \"2011\",\n",
    "    \"2001\" : \"2012\",\n",
    "    \"2002\" : \"2013\",\n",
    "    \"2003\" : \"2014\",\n",
    "    \"2004\" : \"2015\",\n",
    "    \"2005\" : \"2016\",\n",
    "    \"2006\" : \"2017\",\n",
    "    \"2007\" : \"2018\",\n",
    "    \"2008\" : \"2019\",\n",
    "    \"2009\" : \"2020\",\n",
    "    \"2010\" : \"2021\",\n",
    "}"
   ]
  },
  {
   "cell_type": "code",
   "execution_count": 180,
   "id": "d166ce1d",
   "metadata": {},
   "outputs": [
    {
     "name": "stderr",
     "output_type": "stream",
     "text": [
      "  % Total    % Received % Xferd  Average Speed   Time    Time     Time  Current\n",
      "                                 Dload  Upload   Total   Spent    Left  Speed\n",
      "\n",
      "  0     0    0     0    0     0      0      0 --:--:-- --:--:-- --:--:--     0\n",
      "  0     0    0     0    0     0      0      0 --:--:-- --:--:-- --:--:--     0\n",
      "100 1416k    0 1416k    0     0  1416k      0 --:--:--  0:00:01 --:--:--  974k\n",
      "  % Total    % Received % Xferd  Average Speed   Time    Time     Time  Current\n",
      "                                 Dload  Upload   Total   Spent    Left  Speed\n",
      "\n",
      "  0     0    0     0    0     0      0      0 --:--:-- --:--:-- --:--:--     0\n",
      "  0     0    0     0    0     0      0      0 --:--:-- --:--:-- --:--:--     0\n",
      "100  523k    0  523k    0     0   523k      0 --:--:-- --:--:-- --:--:--  669k\n",
      "  % Total    % Received % Xferd  Average Speed   Time    Time     Time  Current\n",
      "                                 Dload  Upload   Total   Spent    Left  Speed\n",
      "\n",
      "  0     0    0     0    0     0      0      0 --:--:-- --:--:-- --:--:--     0\n",
      "  0     0    0     0    0     0      0      0 --:--:-- --:--:-- --:--:--     0\n",
      "100  524k    0  524k    0     0   524k      0 --:--:-- --:--:-- --:--:--  569k\n",
      "  % Total    % Received % Xferd  Average Speed   Time    Time     Time  Current\n",
      "                                 Dload  Upload   Total   Spent    Left  Speed\n",
      "\n",
      "  0     0    0     0    0     0      0      0 --:--:-- --:--:-- --:--:--     0\n",
      "  0     0    0     0    0     0      0      0 --:--:-- --:--:-- --:--:--     0\n",
      "100  261k    0  261k    0     0   261k      0 --:--:-- --:--:-- --:--:--  328k\n"
     ]
    }
   ],
   "source": [
    "!curl https://github.com/KewJS/Dengue-Prediction/blob/main/data/dengue_features_train.csv -o data/dengue_features_train.csv\n",
    "!curl https://github.com/KewJS/Dengue-Prediction/blob/main/data/dengue_labels_train.csv -o data/dengue_labels_train.csv\n",
    "!curl https://github.com/KewJS/Dengue-Prediction/blob/main/data/dengue_features_test.csv -o data/dengue_features_test.csv\n",
    "!curl https://github.com/KewJS/Dengue-Prediction/blob/main/data/submission_format.csv -o data/submission_format.csv"
   ]
  },
  {
   "cell_type": "code",
   "execution_count": 183,
   "id": "25e5a2b1",
   "metadata": {},
   "outputs": [],
   "source": [
    "BASE_DIR = pathlib.Path().resolve()\n",
    "DATASET_DIR = BASE_DIR / \"data\"\n",
    "EXPORT_DIR = DATASET_DIR / \"exports\""
   ]
  },
  {
   "cell_type": "code",
   "execution_count": 184,
   "id": "321a6497",
   "metadata": {},
   "outputs": [],
   "source": [
    "train_features_df = pd.read_csv(DATASET_DIR / 'dengue_features_train.csv')\n",
    "train_labels_df = pd.read_csv(DATASET_DIR / 'dengue_labels_train.csv')"
   ]
  },
  {
   "cell_type": "code",
   "execution_count": 46,
   "id": "82d2a60e",
   "metadata": {},
   "outputs": [],
   "source": [
    "train_df = train_features_df.merge(train_labels_df, on=[\"city\", \"year\", \"weekofyear\"], how=\"left\")"
   ]
  },
  {
   "cell_type": "code",
   "execution_count": 47,
   "id": "c6b3775a",
   "metadata": {},
   "outputs": [],
   "source": [
    "train_df[\"year\"] = train_df[\"year\"].astype(str).apply(lambda x: year_change(x))\n",
    "\n",
    "for key, value in REPLACE_YEAR.items():\n",
    "    train_df[\"week_start_date\"] = train_df[\"week_start_date\"].str.replace(key, value)\n",
    "    \n",
    "train_df[\"week_start_date\"] = pd.to_datetime(train_df[\"week_start_date\"])"
   ]
  },
  {
   "cell_type": "markdown",
   "id": "4ae94f86",
   "metadata": {},
   "source": [
    "<font size=\"5px\" face=\"sans-serif\"><ins>Feature Data Understanding</ins></font>"
   ]
  },
  {
   "cell_type": "code",
   "execution_count": 59,
   "id": "67774d99",
   "metadata": {},
   "outputs": [
    {
     "data": {
      "text/html": [
       "<div>\n",
       "<style scoped>\n",
       "    .dataframe tbody tr th:only-of-type {\n",
       "        vertical-align: middle;\n",
       "    }\n",
       "\n",
       "    .dataframe tbody tr th {\n",
       "        vertical-align: top;\n",
       "    }\n",
       "\n",
       "    .dataframe thead th {\n",
       "        text-align: right;\n",
       "    }\n",
       "</style>\n",
       "<table border=\"1\" class=\"dataframe\">\n",
       "  <thead>\n",
       "    <tr style=\"text-align: right;\">\n",
       "      <th></th>\n",
       "      <th>city</th>\n",
       "      <th>year</th>\n",
       "      <th>weekofyear</th>\n",
       "      <th>week_start_date</th>\n",
       "      <th>ndvi_ne</th>\n",
       "      <th>ndvi_nw</th>\n",
       "      <th>ndvi_se</th>\n",
       "      <th>ndvi_sw</th>\n",
       "      <th>precipitation_amt_mm</th>\n",
       "      <th>reanalysis_air_temp_k</th>\n",
       "      <th>reanalysis_avg_temp_k</th>\n",
       "      <th>reanalysis_dew_point_temp_k</th>\n",
       "      <th>reanalysis_max_air_temp_k</th>\n",
       "      <th>reanalysis_min_air_temp_k</th>\n",
       "      <th>reanalysis_precip_amt_kg_per_m2</th>\n",
       "      <th>reanalysis_relative_humidity_percent</th>\n",
       "      <th>reanalysis_sat_precip_amt_mm</th>\n",
       "      <th>reanalysis_specific_humidity_g_per_kg</th>\n",
       "      <th>reanalysis_tdtr_k</th>\n",
       "      <th>station_avg_temp_c</th>\n",
       "      <th>station_diur_temp_rng_c</th>\n",
       "      <th>station_max_temp_c</th>\n",
       "      <th>station_min_temp_c</th>\n",
       "      <th>station_precip_mm</th>\n",
       "      <th>total_cases</th>\n",
       "    </tr>\n",
       "  </thead>\n",
       "  <tbody>\n",
       "    <tr>\n",
       "      <th>0</th>\n",
       "      <td>sj</td>\n",
       "      <td>2001</td>\n",
       "      <td>18</td>\n",
       "      <td>2012-04-30</td>\n",
       "      <td>0.1226</td>\n",
       "      <td>0.1037</td>\n",
       "      <td>0.1985</td>\n",
       "      <td>0.1776</td>\n",
       "      <td>12.4200</td>\n",
       "      <td>297.5729</td>\n",
       "      <td>297.7429</td>\n",
       "      <td>292.4143</td>\n",
       "      <td>299.8000</td>\n",
       "      <td>295.9000</td>\n",
       "      <td>32.0000</td>\n",
       "      <td>73.3657</td>\n",
       "      <td>12.4200</td>\n",
       "      <td>14.0129</td>\n",
       "      <td>2.6286</td>\n",
       "      <td>25.4429</td>\n",
       "      <td>6.9000</td>\n",
       "      <td>29.4000</td>\n",
       "      <td>20.0000</td>\n",
       "      <td>16.0000</td>\n",
       "      <td>4</td>\n",
       "    </tr>\n",
       "    <tr>\n",
       "      <th>1</th>\n",
       "      <td>sj</td>\n",
       "      <td>2001</td>\n",
       "      <td>19</td>\n",
       "      <td>2012-05-07</td>\n",
       "      <td>0.1699</td>\n",
       "      <td>0.1422</td>\n",
       "      <td>0.1624</td>\n",
       "      <td>0.1555</td>\n",
       "      <td>22.8200</td>\n",
       "      <td>298.2114</td>\n",
       "      <td>298.4429</td>\n",
       "      <td>293.9514</td>\n",
       "      <td>300.9000</td>\n",
       "      <td>296.4000</td>\n",
       "      <td>17.9400</td>\n",
       "      <td>77.3686</td>\n",
       "      <td>22.8200</td>\n",
       "      <td>15.3729</td>\n",
       "      <td>2.3714</td>\n",
       "      <td>26.7143</td>\n",
       "      <td>6.3714</td>\n",
       "      <td>31.7000</td>\n",
       "      <td>22.2000</td>\n",
       "      <td>8.6000</td>\n",
       "      <td>5</td>\n",
       "    </tr>\n",
       "    <tr>\n",
       "      <th>2</th>\n",
       "      <td>sj</td>\n",
       "      <td>2001</td>\n",
       "      <td>20</td>\n",
       "      <td>2012-05-14</td>\n",
       "      <td>0.0323</td>\n",
       "      <td>0.1730</td>\n",
       "      <td>0.1572</td>\n",
       "      <td>0.1708</td>\n",
       "      <td>34.5400</td>\n",
       "      <td>298.7814</td>\n",
       "      <td>298.8786</td>\n",
       "      <td>295.4343</td>\n",
       "      <td>300.5000</td>\n",
       "      <td>297.3000</td>\n",
       "      <td>26.1000</td>\n",
       "      <td>82.0529</td>\n",
       "      <td>34.5400</td>\n",
       "      <td>16.8486</td>\n",
       "      <td>2.3000</td>\n",
       "      <td>26.7143</td>\n",
       "      <td>6.4857</td>\n",
       "      <td>32.2000</td>\n",
       "      <td>22.8000</td>\n",
       "      <td>41.4000</td>\n",
       "      <td>4</td>\n",
       "    </tr>\n",
       "    <tr>\n",
       "      <th>3</th>\n",
       "      <td>sj</td>\n",
       "      <td>2001</td>\n",
       "      <td>21</td>\n",
       "      <td>2012-05-21</td>\n",
       "      <td>0.1286</td>\n",
       "      <td>0.2451</td>\n",
       "      <td>0.2276</td>\n",
       "      <td>0.2359</td>\n",
       "      <td>15.3600</td>\n",
       "      <td>298.9871</td>\n",
       "      <td>299.2286</td>\n",
       "      <td>295.3100</td>\n",
       "      <td>301.4000</td>\n",
       "      <td>297.0000</td>\n",
       "      <td>13.9000</td>\n",
       "      <td>80.3371</td>\n",
       "      <td>15.3600</td>\n",
       "      <td>16.6729</td>\n",
       "      <td>2.4286</td>\n",
       "      <td>27.4714</td>\n",
       "      <td>6.7714</td>\n",
       "      <td>33.3000</td>\n",
       "      <td>23.3000</td>\n",
       "      <td>4.0000</td>\n",
       "      <td>3</td>\n",
       "    </tr>\n",
       "    <tr>\n",
       "      <th>4</th>\n",
       "      <td>sj</td>\n",
       "      <td>2001</td>\n",
       "      <td>22</td>\n",
       "      <td>2012-05-28</td>\n",
       "      <td>0.1962</td>\n",
       "      <td>0.2622</td>\n",
       "      <td>0.2512</td>\n",
       "      <td>0.2473</td>\n",
       "      <td>7.5200</td>\n",
       "      <td>299.5186</td>\n",
       "      <td>299.6643</td>\n",
       "      <td>295.8214</td>\n",
       "      <td>301.9000</td>\n",
       "      <td>297.5000</td>\n",
       "      <td>12.2000</td>\n",
       "      <td>80.4600</td>\n",
       "      <td>7.5200</td>\n",
       "      <td>17.2100</td>\n",
       "      <td>3.0143</td>\n",
       "      <td>28.9429</td>\n",
       "      <td>9.3714</td>\n",
       "      <td>35.0000</td>\n",
       "      <td>23.9000</td>\n",
       "      <td>5.8000</td>\n",
       "      <td>6</td>\n",
       "    </tr>\n",
       "  </tbody>\n",
       "</table>\n",
       "</div>"
      ],
      "text/plain": [
       "  city  year  weekofyear week_start_date  ndvi_ne  ndvi_nw  ndvi_se  ndvi_sw  \\\n",
       "0   sj  2001          18      2012-04-30   0.1226   0.1037   0.1985   0.1776   \n",
       "1   sj  2001          19      2012-05-07   0.1699   0.1422   0.1624   0.1555   \n",
       "2   sj  2001          20      2012-05-14   0.0323   0.1730   0.1572   0.1708   \n",
       "3   sj  2001          21      2012-05-21   0.1286   0.2451   0.2276   0.2359   \n",
       "4   sj  2001          22      2012-05-28   0.1962   0.2622   0.2512   0.2473   \n",
       "\n",
       "   precipitation_amt_mm  reanalysis_air_temp_k  reanalysis_avg_temp_k  \\\n",
       "0               12.4200               297.5729               297.7429   \n",
       "1               22.8200               298.2114               298.4429   \n",
       "2               34.5400               298.7814               298.8786   \n",
       "3               15.3600               298.9871               299.2286   \n",
       "4                7.5200               299.5186               299.6643   \n",
       "\n",
       "   reanalysis_dew_point_temp_k  reanalysis_max_air_temp_k  \\\n",
       "0                     292.4143                   299.8000   \n",
       "1                     293.9514                   300.9000   \n",
       "2                     295.4343                   300.5000   \n",
       "3                     295.3100                   301.4000   \n",
       "4                     295.8214                   301.9000   \n",
       "\n",
       "   reanalysis_min_air_temp_k  reanalysis_precip_amt_kg_per_m2  \\\n",
       "0                   295.9000                          32.0000   \n",
       "1                   296.4000                          17.9400   \n",
       "2                   297.3000                          26.1000   \n",
       "3                   297.0000                          13.9000   \n",
       "4                   297.5000                          12.2000   \n",
       "\n",
       "   reanalysis_relative_humidity_percent  reanalysis_sat_precip_amt_mm  \\\n",
       "0                               73.3657                       12.4200   \n",
       "1                               77.3686                       22.8200   \n",
       "2                               82.0529                       34.5400   \n",
       "3                               80.3371                       15.3600   \n",
       "4                               80.4600                        7.5200   \n",
       "\n",
       "   reanalysis_specific_humidity_g_per_kg  reanalysis_tdtr_k  \\\n",
       "0                                14.0129             2.6286   \n",
       "1                                15.3729             2.3714   \n",
       "2                                16.8486             2.3000   \n",
       "3                                16.6729             2.4286   \n",
       "4                                17.2100             3.0143   \n",
       "\n",
       "   station_avg_temp_c  station_diur_temp_rng_c  station_max_temp_c  \\\n",
       "0             25.4429                   6.9000             29.4000   \n",
       "1             26.7143                   6.3714             31.7000   \n",
       "2             26.7143                   6.4857             32.2000   \n",
       "3             27.4714                   6.7714             33.3000   \n",
       "4             28.9429                   9.3714             35.0000   \n",
       "\n",
       "   station_min_temp_c  station_precip_mm  total_cases  \n",
       "0             20.0000            16.0000            4  \n",
       "1             22.2000             8.6000            5  \n",
       "2             22.8000            41.4000            4  \n",
       "3             23.3000             4.0000            3  \n",
       "4             23.9000             5.8000            6  "
      ]
     },
     "metadata": {},
     "output_type": "display_data"
    },
    {
     "data": {
      "text/markdown": [
       "There are a total of $1456$ number of observations in input data samples."
      ],
      "text/plain": [
       "<IPython.core.display.Markdown object>"
      ]
     },
     "metadata": {},
     "output_type": "display_data"
    },
    {
     "name": "stdout",
     "output_type": "stream",
     "text": [
      "<class 'pandas.core.frame.DataFrame'>\n",
      "Int64Index: 1456 entries, 0 to 1455\n",
      "Data columns (total 25 columns):\n",
      " #   Column                                 Non-Null Count  Dtype         \n",
      "---  ------                                 --------------  -----         \n",
      " 0   city                                   1456 non-null   object        \n",
      " 1   year                                   1456 non-null   int64         \n",
      " 2   weekofyear                             1456 non-null   int64         \n",
      " 3   week_start_date                        1456 non-null   datetime64[ns]\n",
      " 4   ndvi_ne                                1262 non-null   float64       \n",
      " 5   ndvi_nw                                1404 non-null   float64       \n",
      " 6   ndvi_se                                1434 non-null   float64       \n",
      " 7   ndvi_sw                                1434 non-null   float64       \n",
      " 8   precipitation_amt_mm                   1443 non-null   float64       \n",
      " 9   reanalysis_air_temp_k                  1446 non-null   float64       \n",
      " 10  reanalysis_avg_temp_k                  1446 non-null   float64       \n",
      " 11  reanalysis_dew_point_temp_k            1446 non-null   float64       \n",
      " 12  reanalysis_max_air_temp_k              1446 non-null   float64       \n",
      " 13  reanalysis_min_air_temp_k              1446 non-null   float64       \n",
      " 14  reanalysis_precip_amt_kg_per_m2        1446 non-null   float64       \n",
      " 15  reanalysis_relative_humidity_percent   1446 non-null   float64       \n",
      " 16  reanalysis_sat_precip_amt_mm           1443 non-null   float64       \n",
      " 17  reanalysis_specific_humidity_g_per_kg  1446 non-null   float64       \n",
      " 18  reanalysis_tdtr_k                      1446 non-null   float64       \n",
      " 19  station_avg_temp_c                     1413 non-null   float64       \n",
      " 20  station_diur_temp_rng_c                1413 non-null   float64       \n",
      " 21  station_max_temp_c                     1436 non-null   float64       \n",
      " 22  station_min_temp_c                     1442 non-null   float64       \n",
      " 23  station_precip_mm                      1434 non-null   float64       \n",
      " 24  total_cases                            1456 non-null   int64         \n",
      "dtypes: datetime64[ns](1), float64(20), int64(3), object(1)\n",
      "memory usage: 295.8+ KB\n"
     ]
    },
    {
     "data": {
      "text/plain": [
       "None"
      ]
     },
     "metadata": {},
     "output_type": "display_data"
    }
   ],
   "source": [
    "display(train_df.head())\n",
    "display(Markdown(\"There are a total of $1456$ number of observations in input data samples.\"))\n",
    "display(train_df.info())"
   ]
  },
  {
   "cell_type": "markdown",
   "id": "5e067375",
   "metadata": {},
   "source": [
    "<font size=\"5px\" face=\"sans-serif\"><ins>Target Variable: <code>total_cases</code></ins></font>"
   ]
  },
  {
   "cell_type": "code",
   "execution_count": 122,
   "id": "b181b624",
   "metadata": {},
   "outputs": [],
   "source": [
    "def horizontal_bar_plot(df, var, normalize=True, title=None):\n",
    "    var_df = df[var].value_counts(normalize=normalize).reset_index().rename(columns={'index': 'category'})\n",
    "    n_colors = len(var_df)\n",
    "\n",
    "    fig, ax = plt.subplots(figsize=(15,3))\n",
    "    sns.barplot(x=var, y=\"category\", data=var_df, ax=ax)\n",
    "    ax.set_title(title, fontsize=14, weight=\"bold\")\n",
    "    ax.set_xlabel(\"City\", fontsize=14)\n",
    "    ax.set_ylabel(\"Count\", fontsize=14)\n",
    "    ax.tick_params(axis=\"y\", which='major', labelsize=14)\n",
    "    ax.tick_params(axis=\"y\", which='minor', labelsize=14)\n",
    "    ax.tick_params(axis=\"x\", which='major', labelsize=14)\n",
    "    ax.tick_params(axis=\"x\", which='minor', labelsize=14)\n",
    "\n",
    "    return plt.show()\n",
    "\n",
    "\n",
    "def vertical_bar_plot(df, label_var, var, normalize=True, title=None):\n",
    "    fig, ax = plt.subplots(figsize=(15,3))\n",
    "    sns.barplot(x=label_var, y=var, data=df, ax=ax)\n",
    "    ax.set_title(title, fontsize=16, weight=\"bold\")\n",
    "    ax.set_xlabel(var, fontsize=14)\n",
    "    ax.set_ylabel(\"Count\", fontsize=14)\n",
    "\n",
    "    return plt.show()\n",
    "\n",
    "\n",
    "def line_plot(df, x_var, y_var, title=None):\n",
    "    fig, ax = plt.subplots(figsize=(15,3))\n",
    "    plt.plot(pd.to_datetime(df[x_var]), df[y_var], color=\"black\")\n",
    "    plt.title(title, fontsize=16, weight=\"bold\")\n",
    "    plt.xlabel(x_var, fontsize=14)\n",
    "    plt.ylabel(y_var, fontsize=14)\n",
    "    ax.grid()\n",
    "\n",
    "    return plt.show()\n",
    "\n",
    "\n",
    "def distribution_plot(df, x_var, title=None):\n",
    "    fig, ax = plt.subplots(figsize=(15,3))\n",
    "    sns.distplot(df[x_var], bins=50, ax=ax)\n",
    "    ax.set_title(title, fontsize=14, fontweight=\"bold\")\n",
    "    ax.set_xlabel(x_var)\n",
    "    ax.set_ylabel(\"Density\")\n",
    "    ax.grid()\n",
    "    \n",
    "    return plt.show()"
   ]
  },
  {
   "cell_type": "code",
   "execution_count": 123,
   "id": "1e0b434b",
   "metadata": {},
   "outputs": [
    {
     "data": {
      "image/png": "[encoded data removed]",
      "text/plain": [
       "<Figure size 1080x216 with 1 Axes>"
      ]
     },
     "metadata": {
      "needs_background": "light"
     },
     "output_type": "display_data"
    },
    {
     "data": {
      "image/png": "[encoded data removed]",
      "text/plain": [
       "<Figure size 1080x216 with 1 Axes>"
      ]
     },
     "metadata": {
      "needs_background": "light"
     },
     "output_type": "display_data"
    }
   ],
   "source": [
    "for city, data in train_df.groupby([\"city\"]):\n",
    "    line_plot(data, \"week_start_date\", \"total_cases\", title=\"Dengue Cases by week in {}\".format(city))"
   ]
  },
  {
   "cell_type": "markdown",
   "id": "d8817826",
   "metadata": {},
   "source": [
    "We can notice that the distribution of <code>total_cases</code> of dengues are different between 2 cities. Besides, the values problems and cleaning processes would also be different between 2 cities. Hence, we will <b>separate</b> the data into 2 different cities and treat the data separately."
   ]
  },
  {
   "cell_type": "code",
   "execution_count": 143,
   "id": "21a41c79",
   "metadata": {},
   "outputs": [
    {
     "data": {
      "text/markdown": [
       "<b>sj</b> dataset: (936, 25)"
      ],
      "text/plain": [
       "<IPython.core.display.Markdown object>"
      ]
     },
     "metadata": {},
     "output_type": "display_data"
    },
    {
     "data": {
      "text/markdown": [
       "<b>iq</b> dataset: (520, 25)"
      ],
      "text/plain": [
       "<IPython.core.display.Markdown object>"
      ]
     },
     "metadata": {},
     "output_type": "display_data"
    }
   ],
   "source": [
    "sj_train_df = train_df[train_df[\"city\"]==\"sj\"]\n",
    "display(Markdown(\"<b>sj</b> dataset: {}\".format(sj_train_df.shape)))\n",
    "\n",
    "iq_train_df = train_df[train_df[\"city\"]==\"iq\"]\n",
    "display(Markdown(\"<b>iq</b> dataset: {}\".format(iq_train_df.shape)))"
   ]
  },
  {
   "cell_type": "code",
   "execution_count": 144,
   "id": "9bada71b",
   "metadata": {},
   "outputs": [
    {
     "data": {
      "image/png": "[encoded data removed]",
      "text/plain": [
       "<Figure size 1080x216 with 1 Axes>"
      ]
     },
     "metadata": {
      "needs_background": "light"
     },
     "output_type": "display_data"
    }
   ],
   "source": [
    "horizontal_bar_plot(train_df, \"city\", normalize=False, title=\"Count of Dengue cases Across 2 Different States: San Juan & Iquitos\")"
   ]
  },
  {
   "cell_type": "code",
   "execution_count": 145,
   "id": "92dc1aa7",
   "metadata": {},
   "outputs": [
    {
     "data": {
      "image/png": "[encoded data removed]",
      "text/plain": [
       "<Figure size 1080x216 with 1 Axes>"
      ]
     },
     "metadata": {
      "needs_background": "light"
     },
     "output_type": "display_data"
    },
    {
     "data": {
      "image/png": "[encoded data removed]",
      "text/plain": [
       "<Figure size 1080x216 with 1 Axes>"
      ]
     },
     "metadata": {
      "needs_background": "light"
     },
     "output_type": "display_data"
    },
    {
     "data": {
      "text/markdown": [
       "<p>Our target variable is not <b>normal</b>, perhaps some resampling to a much normally distributed data is required.</p>"
      ],
      "text/plain": [
       "<IPython.core.display.Markdown object>"
      ]
     },
     "metadata": {},
     "output_type": "display_data"
    }
   ],
   "source": [
    "for city, data in train_df.groupby([\"city\"]):\n",
    "    distribution_plot(data, \"total_cases\", title=\"Distribution of Dengue Total Cases in {}\".format(city))\n",
    "    \n",
    "display(Markdown(\"<p>Our target variable is not <b>normal</b>, perhaps some resampling to a much normally distributed data is required.</p>\"))"
   ]
  },
  {
   "cell_type": "code",
   "execution_count": null,
   "id": "9a91decc",
   "metadata": {},
   "outputs": [],
   "source": [
    "data consistency\n",
    "data "
   ]
  },
  {
   "cell_type": "markdown",
   "id": "a43fa4f1",
   "metadata": {},
   "source": [
    "<div class=\"alert alert-info\" style=\"background-color:#006a79; color:white; padding:0px 10px; border-radius:5px;\"><h2 style='margin:10px 5px'>Data Quantity Checking</h2>\n",
    "</div>"
   ]
  },
  {
   "cell_type": "markdown",
   "id": "5878f8c6",
   "metadata": {},
   "source": [
    "<font size=\"5px\" face=\"sans-serif\"><ins>Data Consistency Handling</ins></font>"
   ]
  },
  {
   "cell_type": "markdown",
   "id": "c67927aa",
   "metadata": {},
   "source": [
    "- <font size=\"3px\" face=\"sans-serif\"><b>sj</b> city data</font>"
   ]
  },
  {
   "cell_type": "code",
   "execution_count": 175,
   "id": "2977bceb",
   "metadata": {},
   "outputs": [
    {
     "data": {
      "text/plain": [
       "array([18, 19, 20, 21, 22, 23, 24, 25, 26, 27, 28, 29, 30, 31, 32, 33, 34,\n",
       "       35, 36, 37, 38, 39, 40, 41, 42, 43, 44, 45, 46, 47, 48, 49, 50, 51,\n",
       "       52,  1,  2,  3,  4,  5,  6,  7,  8,  9, 10, 11, 12, 13, 14, 15, 16,\n",
       "       17, 53], dtype=int64)"
      ]
     },
     "execution_count": 175,
     "metadata": {},
     "output_type": "execute_result"
    }
   ],
   "source": [
    "sj_train_df[\"weekofyear\"].unique()"
   ]
  },
  {
   "cell_type": "code",
   "execution_count": 148,
   "id": "fc09a07a",
   "metadata": {},
   "outputs": [
    {
     "name": "stdout",
     "output_type": "stream",
     "text": [
      "2001 max: 52      | min: 18      | uniques: 35\n",
      "2002 max: 52      | min: 1      | uniques: 52\n",
      "2003 max: 52      | min: 1      | uniques: 52\n",
      "2004 max: 53      | min: 1      | uniques: 52\n",
      "2005 max: 52      | min: 1      | uniques: 52\n",
      "2006 max: 52      | min: 1      | uniques: 52\n",
      "2007 max: 52      | min: 1      | uniques: 52\n",
      "2008 max: 52      | min: 1      | uniques: 52\n",
      "2009 max: 52      | min: 1      | uniques: 52\n",
      "2010 max: 53      | min: 1      | uniques: 52\n",
      "2011 max: 52      | min: 1      | uniques: 52\n",
      "2012 max: 52      | min: 1      | uniques: 52\n",
      "2013 max: 52      | min: 1      | uniques: 52\n",
      "2014 max: 52      | min: 1      | uniques: 52\n",
      "2015 max: 52      | min: 1      | uniques: 52\n",
      "2016 max: 53      | min: 1      | uniques: 52\n",
      "2017 max: 52      | min: 1      | uniques: 52\n",
      "2018 max: 52      | min: 1      | uniques: 52\n",
      "2019 max: 17      | min: 1      | uniques: 17\n"
     ]
    },
    {
     "data": {
      "text/markdown": [
       "Some weeks have a mistaken weeknumber value, since the max for some years (eg. $2004$, $2010$, $2016$) is 53 despite still only having 52 unique weeks:\n"
      ],
      "text/plain": [
       "<IPython.core.display.Markdown object>"
      ]
     },
     "metadata": {},
     "output_type": "display_data"
    }
   ],
   "source": [
    "for year in sj_train_df[\"year\"].unique():\n",
    "    print(f'{year} max: {max(sj_train_df[sj_train_df[\"year\"]==year][\"weekofyear\"])}\\\n",
    "      | min: {min(sj_train_df[sj_train_df[\"year\"]==year][\"weekofyear\"])}\\\n",
    "      | uniques: {sj_train_df[sj_train_df[\"year\"]==year][\"weekofyear\"].nunique()}')\n",
    "    \n",
    "display(Markdown(\"\"\"Some weeks have a mistaken weeknumber value, since the max for some years \\\n",
    "(eg. $2004$, $2010$, $2016$) is 53 despite still only having 52 unique weeks:\n",
    "\"\"\"))"
   ]
  },
  {
   "cell_type": "markdown",
   "id": "56ede523",
   "metadata": {},
   "source": [
    "A closer look shows that it's the first week of the year that is registering as week 53:"
   ]
  },
  {
   "cell_type": "code",
   "execution_count": 149,
   "id": "0d2700e4",
   "metadata": {},
   "outputs": [
    {
     "data": {
      "text/html": [
       "<div>\n",
       "<style scoped>\n",
       "    .dataframe tbody tr th:only-of-type {\n",
       "        vertical-align: middle;\n",
       "    }\n",
       "\n",
       "    .dataframe tbody tr th {\n",
       "        vertical-align: top;\n",
       "    }\n",
       "\n",
       "    .dataframe thead th {\n",
       "        text-align: right;\n",
       "    }\n",
       "</style>\n",
       "<table border=\"1\" class=\"dataframe\">\n",
       "  <thead>\n",
       "    <tr style=\"text-align: right;\">\n",
       "      <th></th>\n",
       "      <th>city</th>\n",
       "      <th>year</th>\n",
       "      <th>weekofyear</th>\n",
       "      <th>week_start_date</th>\n",
       "    </tr>\n",
       "  </thead>\n",
       "  <tbody>\n",
       "    <tr>\n",
       "      <th>139</th>\n",
       "      <td>sj</td>\n",
       "      <td>2004</td>\n",
       "      <td>53</td>\n",
       "      <td>2015-01-01</td>\n",
       "    </tr>\n",
       "    <tr>\n",
       "      <th>140</th>\n",
       "      <td>sj</td>\n",
       "      <td>2004</td>\n",
       "      <td>1</td>\n",
       "      <td>2015-01-08</td>\n",
       "    </tr>\n",
       "    <tr>\n",
       "      <th>141</th>\n",
       "      <td>sj</td>\n",
       "      <td>2004</td>\n",
       "      <td>2</td>\n",
       "      <td>2015-01-15</td>\n",
       "    </tr>\n",
       "  </tbody>\n",
       "</table>\n",
       "</div>"
      ],
      "text/plain": [
       "    city  year  weekofyear week_start_date\n",
       "139   sj  2004          53      2015-01-01\n",
       "140   sj  2004           1      2015-01-08\n",
       "141   sj  2004           2      2015-01-15"
      ]
     },
     "metadata": {},
     "output_type": "display_data"
    },
    {
     "data": {
      "text/html": [
       "<div>\n",
       "<style scoped>\n",
       "    .dataframe tbody tr th:only-of-type {\n",
       "        vertical-align: middle;\n",
       "    }\n",
       "\n",
       "    .dataframe tbody tr th {\n",
       "        vertical-align: top;\n",
       "    }\n",
       "\n",
       "    .dataframe thead th {\n",
       "        text-align: right;\n",
       "    }\n",
       "</style>\n",
       "<table border=\"1\" class=\"dataframe\">\n",
       "  <thead>\n",
       "    <tr style=\"text-align: right;\">\n",
       "      <th></th>\n",
       "      <th>city</th>\n",
       "      <th>year</th>\n",
       "      <th>weekofyear</th>\n",
       "      <th>week_start_date</th>\n",
       "    </tr>\n",
       "  </thead>\n",
       "  <tbody>\n",
       "    <tr>\n",
       "      <th>451</th>\n",
       "      <td>sj</td>\n",
       "      <td>2010</td>\n",
       "      <td>53</td>\n",
       "      <td>2021-01-01</td>\n",
       "    </tr>\n",
       "    <tr>\n",
       "      <th>452</th>\n",
       "      <td>sj</td>\n",
       "      <td>2010</td>\n",
       "      <td>1</td>\n",
       "      <td>2021-01-08</td>\n",
       "    </tr>\n",
       "    <tr>\n",
       "      <th>453</th>\n",
       "      <td>sj</td>\n",
       "      <td>2010</td>\n",
       "      <td>2</td>\n",
       "      <td>2021-01-15</td>\n",
       "    </tr>\n",
       "  </tbody>\n",
       "</table>\n",
       "</div>"
      ],
      "text/plain": [
       "    city  year  weekofyear week_start_date\n",
       "451   sj  2010          53      2021-01-01\n",
       "452   sj  2010           1      2021-01-08\n",
       "453   sj  2010           2      2021-01-15"
      ]
     },
     "metadata": {},
     "output_type": "display_data"
    },
    {
     "data": {
      "text/html": [
       "<div>\n",
       "<style scoped>\n",
       "    .dataframe tbody tr th:only-of-type {\n",
       "        vertical-align: middle;\n",
       "    }\n",
       "\n",
       "    .dataframe tbody tr th {\n",
       "        vertical-align: top;\n",
       "    }\n",
       "\n",
       "    .dataframe thead th {\n",
       "        text-align: right;\n",
       "    }\n",
       "</style>\n",
       "<table border=\"1\" class=\"dataframe\">\n",
       "  <thead>\n",
       "    <tr style=\"text-align: right;\">\n",
       "      <th></th>\n",
       "      <th>city</th>\n",
       "      <th>year</th>\n",
       "      <th>weekofyear</th>\n",
       "      <th>week_start_date</th>\n",
       "    </tr>\n",
       "  </thead>\n",
       "  <tbody>\n",
       "    <tr>\n",
       "      <th>763</th>\n",
       "      <td>sj</td>\n",
       "      <td>2016</td>\n",
       "      <td>53</td>\n",
       "      <td>2016-01-01</td>\n",
       "    </tr>\n",
       "    <tr>\n",
       "      <th>764</th>\n",
       "      <td>sj</td>\n",
       "      <td>2016</td>\n",
       "      <td>1</td>\n",
       "      <td>2016-01-08</td>\n",
       "    </tr>\n",
       "    <tr>\n",
       "      <th>765</th>\n",
       "      <td>sj</td>\n",
       "      <td>2016</td>\n",
       "      <td>2</td>\n",
       "      <td>2016-01-15</td>\n",
       "    </tr>\n",
       "  </tbody>\n",
       "</table>\n",
       "</div>"
      ],
      "text/plain": [
       "    city  year  weekofyear week_start_date\n",
       "763   sj  2016          53      2016-01-01\n",
       "764   sj  2016           1      2016-01-08\n",
       "765   sj  2016           2      2016-01-15"
      ]
     },
     "metadata": {},
     "output_type": "display_data"
    },
    {
     "data": {
      "text/markdown": [
       "This error on <b>labelling the first week of the year as $53$</b> will be corrected using these 2 steps:\n",
       "<ul>\n",
       "    <li>incrementing all the week values by one. This would make the first week 54, and the rest of the weeks should be correct</li>\n",
       "    <li>reduce any week values over 52 (i.e. the first week only) to 1.</li>\n",
       "</ul>\n"
      ],
      "text/plain": [
       "<IPython.core.display.Markdown object>"
      ]
     },
     "metadata": {},
     "output_type": "display_data"
    }
   ],
   "source": [
    "for year in [2004, 2010, 2016]:\n",
    "    display(sj_train_df[sj_train_df[\"year\"]==year][[\"city\", \"year\", \"weekofyear\", \"week_start_date\"]].head(3))\n",
    "    \n",
    "display(Markdown(\"\"\"This error on <b>labelling the first week of the year as $53$</b> will be corrected using these 2 steps:\n",
    "<ul>\n",
    "    <li>incrementing all the week values by one. This would make the first week 54, and the rest of the weeks should be correct</li>\n",
    "    <li>reduce any week values over 52 (i.e. the first week only) to 1.</li>\n",
    "</ul>\n",
    "\"\"\"))"
   ]
  },
  {
   "cell_type": "code",
   "execution_count": 154,
   "id": "780663d7",
   "metadata": {
    "scrolled": false
   },
   "outputs": [
    {
     "data": {
      "text/markdown": [
       "Increment all week values by one for all problem years"
      ],
      "text/plain": [
       "<IPython.core.display.Markdown object>"
      ]
     },
     "metadata": {},
     "output_type": "display_data"
    },
    {
     "data": {
      "text/markdown": [
       "Reduce any week values over $52$ down to $1$"
      ],
      "text/plain": [
       "<IPython.core.display.Markdown object>"
      ]
     },
     "metadata": {},
     "output_type": "display_data"
    },
    {
     "name": "stdout",
     "output_type": "stream",
     "text": [
      "2001 max: 52  | min: 18  | uniques: 35\n",
      "2002 max: 52  | min: 1  | uniques: 52\n",
      "2003 max: 52  | min: 1  | uniques: 52\n",
      "2004 max: 52  | min: 1  | uniques: 52\n",
      "2005 max: 52  | min: 1  | uniques: 52\n",
      "2006 max: 52  | min: 1  | uniques: 52\n",
      "2007 max: 52  | min: 1  | uniques: 52\n",
      "2008 max: 52  | min: 1  | uniques: 52\n",
      "2009 max: 52  | min: 1  | uniques: 52\n",
      "2010 max: 52  | min: 1  | uniques: 52\n",
      "2011 max: 52  | min: 1  | uniques: 52\n",
      "2012 max: 52  | min: 1  | uniques: 52\n",
      "2013 max: 52  | min: 1  | uniques: 52\n",
      "2014 max: 52  | min: 1  | uniques: 52\n",
      "2015 max: 52  | min: 1  | uniques: 52\n",
      "2016 max: 52  | min: 1  | uniques: 52\n",
      "2017 max: 52  | min: 1  | uniques: 52\n",
      "2018 max: 52  | min: 1  | uniques: 52\n",
      "2019 max: 17  | min: 1  | uniques: 17\n"
     ]
    }
   ],
   "source": [
    "display(Markdown(\"Increment all week values by one for all problem years\"))\n",
    "# sj_train_df.loc[:, \"weekofyear_fixed\"] = np.where(sj_train_df[\"year\"]==2004, \n",
    "#                                                   sj_train_df[\"weekofyear\"]+1, \n",
    "#                                                   sj_train_df[\"weekofyear\"])\n",
    "for year in [2004, 2010, 2016]:\n",
    "    sj_train_df.loc[:,'weekofyear_fixed'] = np.where(sj_train_df[\"year\"]==year,\n",
    "                                                     sj_train_df[\"weekofyear_fixed\"]+1, \n",
    "                                                     sj_train_df[\"weekofyear_fixed\"])\n",
    "\n",
    "display(Markdown(\"Reduce any week values over $52$ down to $1$\"))\n",
    "sj_train_df.loc[:,'weekofyear_fixed'] = np.where(sj_train_df[\"weekofyear_fixed\"]>52,\n",
    "                                                 1, \n",
    "                                                 sj_train_df[\"weekofyear_fixed\"])\n",
    "\n",
    "for year in sj_train_df[\"year\"].unique():\n",
    "    print(f'{year} max: {max(sj_train_df[sj_train_df[\"year\"]==year][\"weekofyear_fixed\"])}\\\n",
    "  | min: {min(sj_train_df[sj_train_df[\"year\"]==year][\"weekofyear_fixed\"])}\\\n",
    "  | uniques: {sj_train_df[sj_train_df[\"year\"]==year][\"weekofyear_fixed\"].nunique()}')"
   ]
  },
  {
   "cell_type": "markdown",
   "id": "c8f4cea4",
   "metadata": {},
   "source": [
    "- <font size=\"3px\" face=\"sans-serif\"><b>iq</b> city data</font>"
   ]
  },
  {
   "cell_type": "code",
   "execution_count": 159,
   "id": "5ae5ede5",
   "metadata": {},
   "outputs": [
    {
     "name": "stdout",
     "output_type": "stream",
     "text": [
      "2011 max: 51      | min: 26      | uniques: 26\n",
      "2012 max: 52      | min: 1      | uniques: 52\n",
      "2013 max: 52      | min: 1      | uniques: 52\n",
      "2014 max: 52      | min: 1      | uniques: 52\n",
      "2015 max: 52      | min: 1      | uniques: 52\n",
      "2016 max: 53      | min: 1      | uniques: 52\n",
      "2017 max: 52      | min: 1      | uniques: 52\n",
      "2018 max: 52      | min: 1      | uniques: 52\n",
      "2019 max: 52      | min: 1      | uniques: 52\n",
      "2020 max: 52      | min: 1      | uniques: 52\n",
      "2021 max: 53      | min: 1      | uniques: 26\n"
     ]
    },
    {
     "data": {
      "text/markdown": [
       "Some weeks have a mistaken weeknumber value, since the max for some years (eg. $2016$, $2021$) is 53 despite still only having 52 unique weeks:\n"
      ],
      "text/plain": [
       "<IPython.core.display.Markdown object>"
      ]
     },
     "metadata": {},
     "output_type": "display_data"
    }
   ],
   "source": [
    "for year in iq_train_df[\"year\"].unique():\n",
    "    print(f'{year} max: {max(iq_train_df[iq_train_df[\"year\"]==year][\"weekofyear\"])}\\\n",
    "      | min: {min(iq_train_df[iq_train_df[\"year\"]==year][\"weekofyear\"])}\\\n",
    "      | uniques: {iq_train_df[iq_train_df[\"year\"]==year][\"weekofyear\"].nunique()}')\n",
    "    \n",
    "display(Markdown(\"\"\"Some weeks have a mistaken weeknumber value, since the max for some years \\\n",
    "(eg. $2016$, $2021$) is 53 despite still only having 52 unique weeks:\n",
    "\"\"\"))"
   ]
  },
  {
   "cell_type": "markdown",
   "id": "9e4f2760",
   "metadata": {},
   "source": [
    "A closer look shows that it's the first week of the year that is registering as week 53:"
   ]
  },
  {
   "cell_type": "code",
   "execution_count": 160,
   "id": "ac1769fb",
   "metadata": {},
   "outputs": [
    {
     "data": {
      "text/html": [
       "<div>\n",
       "<style scoped>\n",
       "    .dataframe tbody tr th:only-of-type {\n",
       "        vertical-align: middle;\n",
       "    }\n",
       "\n",
       "    .dataframe tbody tr th {\n",
       "        vertical-align: top;\n",
       "    }\n",
       "\n",
       "    .dataframe thead th {\n",
       "        text-align: right;\n",
       "    }\n",
       "</style>\n",
       "<table border=\"1\" class=\"dataframe\">\n",
       "  <thead>\n",
       "    <tr style=\"text-align: right;\">\n",
       "      <th></th>\n",
       "      <th>city</th>\n",
       "      <th>year</th>\n",
       "      <th>weekofyear</th>\n",
       "      <th>week_start_date</th>\n",
       "    </tr>\n",
       "  </thead>\n",
       "  <tbody>\n",
       "    <tr>\n",
       "      <th>1170</th>\n",
       "      <td>iq</td>\n",
       "      <td>2016</td>\n",
       "      <td>53</td>\n",
       "      <td>2016-01-01</td>\n",
       "    </tr>\n",
       "    <tr>\n",
       "      <th>1171</th>\n",
       "      <td>iq</td>\n",
       "      <td>2016</td>\n",
       "      <td>1</td>\n",
       "      <td>2016-01-08</td>\n",
       "    </tr>\n",
       "    <tr>\n",
       "      <th>1172</th>\n",
       "      <td>iq</td>\n",
       "      <td>2016</td>\n",
       "      <td>2</td>\n",
       "      <td>2016-01-15</td>\n",
       "    </tr>\n",
       "  </tbody>\n",
       "</table>\n",
       "</div>"
      ],
      "text/plain": [
       "     city  year  weekofyear week_start_date\n",
       "1170   iq  2016          53      2016-01-01\n",
       "1171   iq  2016           1      2016-01-08\n",
       "1172   iq  2016           2      2016-01-15"
      ]
     },
     "metadata": {},
     "output_type": "display_data"
    },
    {
     "data": {
      "text/html": [
       "<div>\n",
       "<style scoped>\n",
       "    .dataframe tbody tr th:only-of-type {\n",
       "        vertical-align: middle;\n",
       "    }\n",
       "\n",
       "    .dataframe tbody tr th {\n",
       "        vertical-align: top;\n",
       "    }\n",
       "\n",
       "    .dataframe thead th {\n",
       "        text-align: right;\n",
       "    }\n",
       "</style>\n",
       "<table border=\"1\" class=\"dataframe\">\n",
       "  <thead>\n",
       "    <tr style=\"text-align: right;\">\n",
       "      <th></th>\n",
       "      <th>city</th>\n",
       "      <th>year</th>\n",
       "      <th>weekofyear</th>\n",
       "      <th>week_start_date</th>\n",
       "    </tr>\n",
       "  </thead>\n",
       "  <tbody>\n",
       "    <tr>\n",
       "      <th>1430</th>\n",
       "      <td>iq</td>\n",
       "      <td>2021</td>\n",
       "      <td>53</td>\n",
       "      <td>2021-01-01</td>\n",
       "    </tr>\n",
       "    <tr>\n",
       "      <th>1431</th>\n",
       "      <td>iq</td>\n",
       "      <td>2021</td>\n",
       "      <td>1</td>\n",
       "      <td>2021-01-08</td>\n",
       "    </tr>\n",
       "    <tr>\n",
       "      <th>1432</th>\n",
       "      <td>iq</td>\n",
       "      <td>2021</td>\n",
       "      <td>2</td>\n",
       "      <td>2021-01-15</td>\n",
       "    </tr>\n",
       "  </tbody>\n",
       "</table>\n",
       "</div>"
      ],
      "text/plain": [
       "     city  year  weekofyear week_start_date\n",
       "1430   iq  2021          53      2021-01-01\n",
       "1431   iq  2021           1      2021-01-08\n",
       "1432   iq  2021           2      2021-01-15"
      ]
     },
     "metadata": {},
     "output_type": "display_data"
    },
    {
     "data": {
      "text/markdown": [
       "This error on <b>labelling the first week of the year as $53$</b> will be corrected using these 2 steps:\n",
       "<ul>\n",
       "    <li>incrementing all the week values by one. This would make the first week 54, and the rest of the weeks should be correct</li>\n",
       "    <li>reduce any week values over 52 (i.e. the first week only) to 1.</li>\n",
       "</ul>\n"
      ],
      "text/plain": [
       "<IPython.core.display.Markdown object>"
      ]
     },
     "metadata": {},
     "output_type": "display_data"
    }
   ],
   "source": [
    "for year in [2016, 2021]:\n",
    "    display(iq_train_df[iq_train_df[\"year\"]==year][[\"city\", \"year\", \"weekofyear\", \"week_start_date\"]].head(3))\n",
    "    \n",
    "display(Markdown(\"\"\"This error on <b>labelling the first week of the year as $53$</b> will be corrected using these 2 steps:\n",
    "<ul>\n",
    "    <li>incrementing all the week values by one. This would make the first week 54, and the rest of the weeks should be correct</li>\n",
    "    <li>reduce any week values over 52 (i.e. the first week only) to 1.</li>\n",
    "</ul>\n",
    "\"\"\"))"
   ]
  },
  {
   "cell_type": "code",
   "execution_count": 162,
   "id": "e082becc",
   "metadata": {},
   "outputs": [
    {
     "data": {
      "text/markdown": [
       "Increment all week values by one for all problem years"
      ],
      "text/plain": [
       "<IPython.core.display.Markdown object>"
      ]
     },
     "metadata": {},
     "output_type": "display_data"
    },
    {
     "data": {
      "text/markdown": [
       "Reduce any week values over $52$ down to $1$"
      ],
      "text/plain": [
       "<IPython.core.display.Markdown object>"
      ]
     },
     "metadata": {},
     "output_type": "display_data"
    },
    {
     "name": "stdout",
     "output_type": "stream",
     "text": [
      "2011 max: 51  | min: 26  | uniques: 26\n",
      "2012 max: 52  | min: 1  | uniques: 52\n",
      "2013 max: 52  | min: 1  | uniques: 52\n",
      "2014 max: 52  | min: 1  | uniques: 52\n",
      "2015 max: 52  | min: 1  | uniques: 52\n",
      "2016 max: 52  | min: 1  | uniques: 52\n",
      "2017 max: 52  | min: 1  | uniques: 52\n",
      "2018 max: 52  | min: 1  | uniques: 52\n",
      "2019 max: 52  | min: 1  | uniques: 52\n",
      "2020 max: 52  | min: 1  | uniques: 52\n",
      "2021 max: 26  | min: 1  | uniques: 26\n"
     ]
    }
   ],
   "source": [
    "display(Markdown(\"Increment all week values by one for all problem years\"))\n",
    "iq_train_df.loc[:, \"weekofyear_fixed\"] = np.where(iq_train_df[\"year\"]==2016,\n",
    "                                                  iq_train_df[\"weekofyear\"]+1,\n",
    "                                                  iq_train_df[\"weekofyear\"])\n",
    "iq_train_df.loc[:, \"weekofyear_fixed\"] = np.where(iq_train_df[\"year\"]==2021,\n",
    "                                                  iq_train_df[\"weekofyear_fixed\"]+1,\n",
    "                                                  iq_train_df[\"weekofyear_fixed\"])\n",
    "\n",
    "display(Markdown(\"Reduce any week values over $52$ down to $1$\"))\n",
    "iq_train_df.loc[:,'weekofyear_fixed'] = np.where(iq_train_df[\"weekofyear_fixed\"]>52,\n",
    "                                                 1, \n",
    "                                                 iq_train_df[\"weekofyear_fixed\"])\n",
    "\n",
    "for year in iq_train_df[\"year\"].unique():\n",
    "    print(f'{year} max: {max(iq_train_df[iq_train_df[\"year\"]==year][\"weekofyear_fixed\"])}\\\n",
    "  | min: {min(iq_train_df[iq_train_df[\"year\"]==year][\"weekofyear_fixed\"])}\\\n",
    "  | uniques: {iq_train_df[iq_train_df[\"year\"]==year][\"weekofyear_fixed\"].nunique()}')"
   ]
  },
  {
   "cell_type": "markdown",
   "id": "ef09313b",
   "metadata": {},
   "source": [
    "<font size=\"5px\" face=\"sans-serif\"><ins>Missing Values Checking</ins></font>"
   ]
  },
  {
   "cell_type": "code",
   "execution_count": 146,
   "id": "9e6b6173",
   "metadata": {},
   "outputs": [
    {
     "data": {
      "text/plain": [
       "city                                     False\n",
       "year                                     False\n",
       "weekofyear                               False\n",
       "week_start_date                          False\n",
       "ndvi_ne                                   True\n",
       "ndvi_nw                                   True\n",
       "ndvi_se                                   True\n",
       "ndvi_sw                                   True\n",
       "precipitation_amt_mm                      True\n",
       "reanalysis_air_temp_k                     True\n",
       "reanalysis_avg_temp_k                     True\n",
       "reanalysis_dew_point_temp_k               True\n",
       "reanalysis_max_air_temp_k                 True\n",
       "reanalysis_min_air_temp_k                 True\n",
       "reanalysis_precip_amt_kg_per_m2           True\n",
       "reanalysis_relative_humidity_percent      True\n",
       "reanalysis_sat_precip_amt_mm              True\n",
       "reanalysis_specific_humidity_g_per_kg     True\n",
       "reanalysis_tdtr_k                         True\n",
       "station_avg_temp_c                        True\n",
       "station_diur_temp_rng_c                   True\n",
       "station_max_temp_c                        True\n",
       "station_min_temp_c                        True\n",
       "station_precip_mm                         True\n",
       "total_cases                              False\n",
       "dtype: bool"
      ]
     },
     "metadata": {},
     "output_type": "display_data"
    },
    {
     "data": {
      "text/markdown": [
       "There are misisng values across the dataframe, besides from <code>city</code>, <code>year</code>, <code>weekofyear</code>, <code>week_start_date</code> and <code>total_cases</code>.\n"
      ],
      "text/plain": [
       "<IPython.core.display.Markdown object>"
      ]
     },
     "metadata": {},
     "output_type": "display_data"
    }
   ],
   "source": [
    "display(pd.isnull(train_df).any())\n",
    "\n",
    "display(Markdown(\"\"\"There are misisng values across the dataframe, besides from <code>city</code>, <code>year</code>, \\\n",
    "<code>weekofyear</code>, <code>week_start_date</code> and <code>total_cases</code>.\n",
    "\"\"\"))"
   ]
  },
  {
   "cell_type": "code",
   "execution_count": 165,
   "id": "fe01b838",
   "metadata": {},
   "outputs": [],
   "source": [
    "def missingno_matrix(df, title):\n",
    "    fig, ax = plt.subplots(figsize=(15,5))\n",
    "    msno.matrix(df, ax=ax)\n",
    "    ax.set_title(title, fontsize=16, fontweight=\"bold\")\n",
    "    \n",
    "    return plt.show()"
   ]
  },
  {
   "cell_type": "code",
   "execution_count": 166,
   "id": "0434d448",
   "metadata": {
    "scrolled": true
   },
   "outputs": [
    {
     "data": {
      "image/png": "[encoded data removed]",
      "text/plain": [
       "<Figure size 1080x360 with 1 Axes>"
      ]
     },
     "metadata": {
      "needs_background": "light"
     },
     "output_type": "display_data"
    },
    {
     "data": {
      "image/png": "[encoded data removed]",
      "text/plain": [
       "<Figure size 1080x360 with 1 Axes>"
      ]
     },
     "metadata": {
      "needs_background": "light"
     },
     "output_type": "display_data"
    },
    {
     "data": {
      "text/markdown": [
       "<p>Missing values present across the data in both cities but the missing values are not severe.</p>"
      ],
      "text/plain": [
       "<IPython.core.display.Markdown object>"
      ]
     },
     "metadata": {},
     "output_type": "display_data"
    }
   ],
   "source": [
    "for city, data in train_df.groupby([\"city\"]):\n",
    "    missingno_matrix(data, \"Missing Values Distrbution Matrix of {}\".format(city))\n",
    "    \n",
    "display(Markdown(\"<p>Missing values present across the data in both cities but the missing values are not severe.</p>\"))"
   ]
  },
  {
   "cell_type": "code",
   "execution_count": 170,
   "id": "035a780b",
   "metadata": {},
   "outputs": [
    {
     "data": {
      "text/markdown": [
       "Fill in missing values using <b>interpolation</b> method across both city"
      ],
      "text/plain": [
       "<IPython.core.display.Markdown object>"
      ]
     },
     "metadata": {},
     "output_type": "display_data"
    },
    {
     "data": {
      "text/markdown": [
       "<b>sj</b> dataset missing values: city                                     0\n",
       "year                                     0\n",
       "weekofyear                               0\n",
       "week_start_date                          0\n",
       "ndvi_ne                                  0\n",
       "ndvi_nw                                  0\n",
       "ndvi_se                                  0\n",
       "ndvi_sw                                  0\n",
       "precipitation_amt_mm                     0\n",
       "reanalysis_air_temp_k                    0\n",
       "reanalysis_avg_temp_k                    0\n",
       "reanalysis_dew_point_temp_k              0\n",
       "reanalysis_max_air_temp_k                0\n",
       "reanalysis_min_air_temp_k                0\n",
       "reanalysis_precip_amt_kg_per_m2          0\n",
       "reanalysis_relative_humidity_percent     0\n",
       "reanalysis_sat_precip_amt_mm             0\n",
       "reanalysis_specific_humidity_g_per_kg    0\n",
       "reanalysis_tdtr_k                        0\n",
       "station_avg_temp_c                       0\n",
       "station_diur_temp_rng_c                  0\n",
       "station_max_temp_c                       0\n",
       "station_min_temp_c                       0\n",
       "station_precip_mm                        0\n",
       "total_cases                              0\n",
       "weekofyear_fixed                         0\n",
       "dtype: int64"
      ],
      "text/plain": [
       "<IPython.core.display.Markdown object>"
      ]
     },
     "metadata": {},
     "output_type": "display_data"
    },
    {
     "data": {
      "text/markdown": [
       "<b>iq</b> dataset missing values: city                                     0\n",
       "year                                     0\n",
       "weekofyear                               0\n",
       "week_start_date                          0\n",
       "ndvi_ne                                  0\n",
       "ndvi_nw                                  0\n",
       "ndvi_se                                  0\n",
       "ndvi_sw                                  0\n",
       "precipitation_amt_mm                     0\n",
       "reanalysis_air_temp_k                    0\n",
       "reanalysis_avg_temp_k                    0\n",
       "reanalysis_dew_point_temp_k              0\n",
       "reanalysis_max_air_temp_k                0\n",
       "reanalysis_min_air_temp_k                0\n",
       "reanalysis_precip_amt_kg_per_m2          0\n",
       "reanalysis_relative_humidity_percent     0\n",
       "reanalysis_sat_precip_amt_mm             0\n",
       "reanalysis_specific_humidity_g_per_kg    0\n",
       "reanalysis_tdtr_k                        0\n",
       "station_avg_temp_c                       0\n",
       "station_diur_temp_rng_c                  0\n",
       "station_max_temp_c                       0\n",
       "station_min_temp_c                       0\n",
       "station_precip_mm                        0\n",
       "total_cases                              0\n",
       "weekofyear_fixed                         0\n",
       "dtype: int64"
      ],
      "text/plain": [
       "<IPython.core.display.Markdown object>"
      ]
     },
     "metadata": {},
     "output_type": "display_data"
    }
   ],
   "source": [
    "display(Markdown(\"Fill in missing values using <b>interpolation</b> method across both city\"))\n",
    "\n",
    "sj_train_df = sj_train_df.interpolate(method=\"ffill\").interpolate(method=\"bfill\")\n",
    "display(Markdown(\"<b>sj</b> dataset missing values: {}\".format(sj_train_df.isnull().sum())))\n",
    "\n",
    "iq_train_df = iq_train_df.interpolate(method=\"ffill\").interpolate(method=\"bfill\")\n",
    "display(Markdown(\"<b>iq</b> dataset missing values: {}\".format(iq_train_df.isnull().sum())))"
   ]
  },
  {
   "cell_type": "markdown",
   "id": "58f07bab",
   "metadata": {},
   "source": [
    "<font size=\"5px\" face=\"sans-serif\"><ins>Outliers Data Handling</ins></font>"
   ]
  },
  {
   "cell_type": "code",
   "execution_count": null,
   "id": "f34dc16d",
   "metadata": {},
   "outputs": [],
   "source": [
    "sj_train_df"
   ]
  }
 ],
 "metadata": {
  "kernelspec": {
   "display_name": "data_analytics",
   "language": "python",
   "name": "data_analytics"
  },
  "language_info": {
   "codemirror_mode": {
    "name": "ipython",
    "version": 3
   },
   "file_extension": ".py",
   "mimetype": "text/x-python",
   "name": "python",
   "nbconvert_exporter": "python",
   "pygments_lexer": "ipython3",
   "version": "3.9.9"
  }
 },
 "nbformat": 4,
 "nbformat_minor": 5
}
